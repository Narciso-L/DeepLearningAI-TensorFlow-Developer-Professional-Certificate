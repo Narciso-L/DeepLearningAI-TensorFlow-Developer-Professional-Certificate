{
 "cells": [
  {
   "cell_type": "markdown",
   "metadata": {
    "colab_type": "text",
    "id": "UncprnB0ymAE"
   },
   "source": [
    "Below is code with a link to a happy or sad dataset which contains 80 images, 40 happy and 40 sad. \n",
    "Create a convolutional neural network that trains to 100% accuracy on these images,  which cancels training upon hitting training accuracy of >.999\n",
    "\n",
    "Hint -- it will work best with 3 convolutional layers."
   ]
  },
  {
   "cell_type": "code",
   "execution_count": 2,
   "metadata": {},
   "outputs": [
    {
     "name": "stderr",
     "output_type": "stream",
     "text": [
      "--2021-03-30 23:49:52--  https://storage.googleapis.com/laurencemoroney-blog.appspot.com/happy-or-sad.zip\n",
      "Resolving storage.googleapis.com (storage.googleapis.com)... 142.250.184.16, 142.250.200.144, 172.217.17.16, ...\n",
      "Connecting to storage.googleapis.com (storage.googleapis.com)|142.250.184.16|:443... connected.\n",
      "WARNING: cannot verify storage.googleapis.com's certificate, issued by 'CN=GTS CA 1O1,O=Google Trust Services,C=US':\n",
      "  Unable to locally verify the issuer's authority.\n",
      "HTTP request sent, awaiting response... 200 OK\n",
      "Length: 2670333 (2.5M) [application/zip]\n",
      "Saving to: '/tmp/happy-or-sad.zip'\n",
      "\n",
      "     0K .......... .......... .......... .......... ..........  1%  873K 3s\n",
      "    50K .......... .......... .......... .......... ..........  3% 2.91M 2s\n",
      "   100K .......... .......... .......... .......... ..........  5% 3.88M 1s\n",
      "   150K .......... .......... .......... .......... ..........  7% 4.33M 1s\n",
      "   200K .......... .......... .......... .......... ..........  9% 4.17M 1s\n",
      "   250K .......... .......... .......... .......... .......... 11% 4.30M 1s\n",
      "   300K .......... .......... .......... .......... .......... 13% 4.31M 1s\n",
      "   350K .......... .......... .......... .......... .......... 15% 4.15M 1s\n",
      "   400K .......... .......... .......... .......... .......... 17% 3.79M 1s\n",
      "   450K .......... .......... .......... .......... .......... 19% 3.61M 1s\n",
      "   500K .......... .......... .......... .......... .......... 21% 4.02M 1s\n",
      "   550K .......... .......... .......... .......... .......... 23% 3.96M 1s\n",
      "   600K .......... .......... .......... .......... .......... 24% 3.97M 1s\n",
      "   650K .......... .......... .......... .......... .......... 26% 3.92M 1s\n",
      "   700K .......... .......... .......... .......... .......... 28% 4.08M 1s\n",
      "   750K .......... .......... .......... .......... .......... 30% 4.10M 1s\n",
      "   800K .......... .......... .......... .......... .......... 32% 4.32M 1s\n",
      "   850K .......... .......... .......... .......... .......... 34% 4.23M 1s\n",
      "   900K .......... .......... .......... .......... .......... 36% 3.96M 0s\n",
      "   950K .......... .......... .......... .......... .......... 38% 4.25M 0s\n",
      "  1000K .......... .......... .......... .......... .......... 40% 7.08M 0s\n",
      "  1050K .......... .......... .......... .......... .......... 42% 27.3M 0s\n",
      "  1100K .......... .......... .......... .......... .......... 44% 25.5M 0s\n",
      "  1150K .......... .......... .......... .......... .......... 46% 25.5M 0s\n",
      "  1200K .......... .......... .......... .......... .......... 47% 18.9M 0s\n",
      "  1250K .......... .......... .......... .......... .......... 49% 26.2M 0s\n",
      "  1300K .......... .......... .......... .......... .......... 51% 24.2M 0s\n",
      "  1350K .......... .......... .......... .......... .......... 53% 26.4M 0s\n",
      "  1400K .......... .......... .......... .......... .......... 55% 21.1M 0s\n",
      "  1450K .......... .......... .......... .......... .......... 57% 25.6M 0s\n",
      "  1500K .......... .......... .......... .......... .......... 59% 21.4M 0s\n",
      "  1550K .......... .......... .......... .......... .......... 61% 26.1M 0s\n",
      "  1600K .......... .......... .......... .......... .......... 63% 22.3M 0s\n",
      "  1650K .......... .......... .......... .......... .......... 65% 24.8M 0s\n",
      "  1700K .......... .......... .......... .......... .......... 67% 23.5M 0s\n",
      "  1750K .......... .......... .......... .......... .......... 69% 20.7M 0s\n",
      "  1800K .......... .......... .......... .......... .......... 70% 16.6M 0s\n",
      "  1850K .......... .......... .......... .......... .......... 72% 23.5M 0s\n",
      "  1900K .......... .......... .......... .......... .......... 74% 23.3M 0s\n",
      "  1950K .......... .......... .......... .......... .......... 76% 22.6M 0s\n",
      "  2000K .......... .......... .......... .......... .......... 78% 20.8M 0s\n",
      "  2050K .......... .......... .......... .......... .......... 80% 17.6M 0s\n",
      "  2100K .......... .......... .......... .......... .......... 82% 25.3M 0s\n",
      "  2150K .......... .......... .......... .......... .......... 84% 15.0M 0s\n",
      "  2200K .......... .......... .......... .......... .......... 86% 19.6M 0s\n",
      "  2250K .......... .......... .......... .......... .......... 88% 26.7M 0s\n",
      "  2300K .......... .......... .......... .......... .......... 90% 27.8M 0s\n",
      "  2350K .......... .......... .......... .......... .......... 92% 25.5M 0s\n",
      "  2400K .......... .......... .......... .......... .......... 93% 14.8M 0s\n",
      "  2450K .......... .......... .......... .......... .......... 95% 22.2M 0s\n",
      "  2500K .......... .......... .......... .......... .......... 97% 18.8M 0s\n",
      "  2550K .......... .......... .......... .......... .......... 99% 22.8M 0s\n",
      "  2600K .......                                               100% 27.1M=0.4s\n",
      "\n",
      "2021-03-30 23:49:53 (6.96 MB/s) - '/tmp/happy-or-sad.zip' saved [2670333/2670333]\n",
      "\n"
     ]
    }
   ],
   "source": [
    "import tensorflow as tf\n",
    "import os\n",
    "import zipfile\n",
    "from os import path, getcwd, chdir\n",
    "\n",
    "# DO NOT CHANGE THE LINE BELOW. If you are developing in a local\n",
    "# environment, then grab happy-or-sad.zip from the Coursera Jupyter Notebook\n",
    "# and place it inside a local folder and edit the path to that location\n",
    "#path = f\"{getcwd()}/../tmp2/happy-or-sad.zip\"\n",
    "\n",
    "#zip_ref = zipfile.ZipFile(path, 'r')\n",
    "!wget --no-check-certificate \\\n",
    "    \"https://storage.googleapis.com/laurencemoroney-blog.appspot.com/happy-or-sad.zip\" \\\n",
    "    -O \"/tmp/happy-or-sad.zip\"\n",
    "\n",
    "zip_ref = zipfile.ZipFile(\"/tmp/happy-or-sad.zip\", 'r')\n",
    "zip_ref.extractall(\"/tmp/h-or-s\")\n",
    "zip_ref.close()"
   ]
  },
  {
   "cell_type": "code",
   "execution_count": 10,
   "metadata": {},
   "outputs": [],
   "source": [
    "# GRADED FUNCTION: train_happy_sad_model\n",
    "def train_happy_sad_model():\n",
    "    # Please write your code only where you are indicated.\n",
    "    # please do not remove # model fitting inline comments.\n",
    "\n",
    "    DESIRED_ACCURACY = 0.999\n",
    "\n",
    "    class myCallback(tf.keras.callbacks.Callback):\n",
    "        def on_epoch_end(self, epoch, logs={}):\n",
    "            if(logs.get('accuracy')> DESIRED_ACCURACY):  # cambiar por acc\n",
    "                print(\"\\nReached 99.9% accuracy so cancelling training!\")\n",
    "                self.model.stop_training = True\n",
    "\n",
    "    callbacks = myCallback()\n",
    "    \n",
    "    # This Code Block should Define and Compile the Model. Please assume the images are 150 X 150 in your implementation.\n",
    "    model = tf.keras.models.Sequential([\n",
    "        # This is the first convolution\n",
    "        tf.keras.layers.Conv2D(16, (3,3), activation='relu', input_shape=(150, 150, 3)),\n",
    "        tf.keras.layers.MaxPooling2D(2, 2),\n",
    "        # The second convolution\n",
    "        tf.keras.layers.Conv2D(16, (3,3), activation='relu'),\n",
    "        tf.keras.layers.MaxPooling2D(2,2),\n",
    "        # The third convolution\n",
    "        tf.keras.layers.Conv2D(16, (3,3), activation='relu'),\n",
    "        tf.keras.layers.MaxPooling2D(2,2),\n",
    "        # Flatten the results to feed into a DNN\n",
    "        tf.keras.layers.Flatten(),\n",
    "        # 512 neuron hidden layer\n",
    "        tf.keras.layers.Dense(128, activation='relu'),\n",
    "        # Only 1 output neuron. It will contain a value from 0-1 where 0 for 1 class ('horses') and 1 for the other ('humans')\n",
    "        tf.keras.layers.Dense(1, activation='sigmoid')\n",
    "    ])\n",
    "\n",
    "    from tensorflow.keras.optimizers import RMSprop\n",
    "\n",
    "    model.compile(loss='binary_crossentropy',\n",
    "              optimizer=RMSprop(lr=0.001),\n",
    "              metrics=['accuracy'])\n",
    "        \n",
    "\n",
    "    # This code block should create an instance of an ImageDataGenerator called train_datagen \n",
    "    # And a train_generator by calling train_datagen.flow_from_directory\n",
    "\n",
    "    from tensorflow.keras.preprocessing.image import ImageDataGenerator\n",
    "\n",
    "    train_datagen = ImageDataGenerator(rescale=1/255)\n",
    "\n",
    "    # Please use a target_size of 150 X 150.\n",
    "    train_generator = train_datagen.flow_from_directory(\n",
    "        '/tmp/h-or-s/',  # This is the source directory for training images\n",
    "        target_size=(150, 150),  # All images will be resized to 150x150\n",
    "        batch_size=10,\n",
    "        # Since we use binary_crossentropy loss, we need binary labels\n",
    "        class_mode='binary')\n",
    "    # Expected output: 'Found 80 images belonging to 2 classes'\n",
    "\n",
    "    # This code block should call model.fit_generator and train for\n",
    "    # a number of epochs.\n",
    "    # model fitting\n",
    "    history = model.fit_generator(\n",
    "    train_generator,\n",
    "    steps_per_epoch=8,\n",
    "    epochs=15,\n",
    "    verbose=2,\n",
    "    callbacks=[callbacks])\n",
    "    # model fitting\n",
    "    return history.history['accuracy'][-1]  # cambiar por acc"
   ]
  },
  {
   "cell_type": "code",
   "execution_count": 11,
   "metadata": {},
   "outputs": [
    {
     "name": "stdout",
     "output_type": "stream",
     "text": [
      "Found 80 images belonging to 2 classes.\n",
      "Epoch 1/15\n",
      "8/8 - 1s - loss: 1.3198 - accuracy: 0.5375\n",
      "Epoch 2/15\n",
      "8/8 - 0s - loss: 0.4293 - accuracy: 0.8125\n",
      "Epoch 3/15\n",
      "8/8 - 1s - loss: 0.4211 - accuracy: 0.8250\n",
      "Epoch 4/15\n",
      "8/8 - 1s - loss: 0.1820 - accuracy: 0.9500\n",
      "Epoch 5/15\n",
      "8/8 - 1s - loss: 0.1293 - accuracy: 0.9500\n",
      "Epoch 6/15\n",
      "8/8 - 1s - loss: 0.1138 - accuracy: 0.9750\n",
      "Epoch 7/15\n",
      "8/8 - 1s - loss: 0.1289 - accuracy: 0.9125\n",
      "Epoch 8/15\n",
      "8/8 - 0s - loss: 0.1120 - accuracy: 0.9500\n",
      "Epoch 9/15\n",
      "8/8 - 1s - loss: 0.0506 - accuracy: 0.9875\n",
      "Epoch 10/15\n",
      "\n",
      "Reached 99.9% accuracy so cancelling training!\n",
      "8/8 - 1s - loss: 0.0327 - accuracy: 1.0000\n"
     ]
    },
    {
     "data": {
      "text/plain": [
       "1.0"
      ]
     },
     "execution_count": 11,
     "metadata": {},
     "output_type": "execute_result"
    }
   ],
   "source": [
    "# The Expected output: \"Reached 99.9% accuracy so cancelling training!\"\"\n",
    "train_happy_sad_model()"
   ]
  },
  {
   "cell_type": "code",
   "execution_count": null,
   "metadata": {},
   "outputs": [],
   "source": [
    "# Now click the 'Submit Assignment' button above.\n",
    "# Once that is complete, please run the following two cells to save your work and close the notebook"
   ]
  },
  {
   "cell_type": "code",
   "execution_count": null,
   "metadata": {},
   "outputs": [],
   "source": [
    "%%javascript\n",
    "<!-- Save the notebook -->\n",
    "IPython.notebook.save_checkpoint();"
   ]
  },
  {
   "cell_type": "code",
   "execution_count": null,
   "metadata": {},
   "outputs": [],
   "source": [
    "%%javascript\n",
    "IPython.notebook.session.delete();\n",
    "window.onbeforeunload = null\n",
    "setTimeout(function() { window.close(); }, 1000);"
   ]
  }
 ],
 "metadata": {
  "coursera": {
   "course_slug": "introduction-tensorflow",
   "graded_item_id": "1kAlw",
   "launcher_item_id": "PNLYD"
  },
  "kernelspec": {
   "display_name": "Python 3",
   "language": "python",
   "name": "python3"
  },
  "language_info": {
   "codemirror_mode": {
    "name": "ipython",
    "version": 3
   },
   "file_extension": ".py",
   "mimetype": "text/x-python",
   "name": "python",
   "nbconvert_exporter": "python",
   "pygments_lexer": "ipython3",
   "version": "3.8.3"
  }
 },
 "nbformat": 4,
 "nbformat_minor": 1
}
